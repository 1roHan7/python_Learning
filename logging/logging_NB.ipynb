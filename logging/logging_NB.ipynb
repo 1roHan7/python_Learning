{
 "cells": [
  {
   "cell_type": "code",
   "execution_count": null,
   "id": "ce1b24ab",
   "metadata": {},
   "outputs": [],
   "source": [
    "import logging\n",
    "\n",
    "\"\"\" To this only one time generally right at the beginning of the program\"\"\"\n",
    "logging.basicConfig(level=logging.DEBUG,filename=\"log.log1\",filemode=\"w\",\n",
    "                    format=\"%(asctime)s -%(levelname)s - %(message)s - %(name)s - %(threadName)s\")\n"
   ]
  },
  {
   "cell_type": "code",
   "execution_count": null,
   "id": "3f4d831d",
   "metadata": {},
   "outputs": [],
   "source": [
    "#how to log a value of a variable\n",
    "x =2\n",
    "logging.info(f\"the value of x is {x}\")"
   ]
  },
  {
   "cell_type": "code",
   "execution_count": 5,
   "id": "1697dc9a",
   "metadata": {},
   "outputs": [],
   "source": [
    "#log a stack trace\n",
    "try:\n",
    "    1/0\n",
    "except ZeroDivisionError as e:\n",
    "    logging.error(\"ZeroDivisionError\", exc_info=True) \n",
    "\n",
    "    logging.exception(\"ZeroDivisionError\")  #this is same as above line\n",
    "    "
   ]
  },
  {
   "cell_type": "code",
   "execution_count": 10,
   "id": "12cc6add",
   "metadata": {},
   "outputs": [],
   "source": [
    "#custom logger\n",
    "logger = logging.getLogger(__name__)\n",
    "handler = logging.FileHandler('file.log')\n",
    "formatter = logging.Formatter('%(asctime)s -%(levelname)s - %(message)s - %(name)s')\n",
    "handler.setFormatter(formatter) \n",
    "logger.addHandler(handler)\n",
    "logger.info(\"this is info from custom logger\")\n"
   ]
  }
 ],
 "metadata": {
  "kernelspec": {
   "display_name": "Python 3",
   "language": "python",
   "name": "python3"
  },
  "language_info": {
   "codemirror_mode": {
    "name": "ipython",
    "version": 3
   },
   "file_extension": ".py",
   "mimetype": "text/x-python",
   "name": "python",
   "nbconvert_exporter": "python",
   "pygments_lexer": "ipython3",
   "version": "3.12.1"
  }
 },
 "nbformat": 4,
 "nbformat_minor": 5
}
