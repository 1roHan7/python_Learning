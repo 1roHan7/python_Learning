{
 "cells": [
  {
   "cell_type": "markdown",
   "id": "ea32be41",
   "metadata": {},
   "source": [
    "# OOPS basics \n",
    "- Source -https://www.youtube.com/watch?v=iLRZi0Gu8Go"
   ]
  },
  {
   "cell_type": "code",
   "execution_count": 2,
   "id": "b4e34bf1",
   "metadata": {},
   "outputs": [
    {
     "data": {
      "text/plain": [
       "'Woof!'"
      ]
     },
     "execution_count": 2,
     "metadata": {},
     "output_type": "execute_result"
    }
   ],
   "source": [
    "class Dog:\n",
    "    def __init__(self,name,breed):\n",
    "        self.name=name\n",
    "        self.breed=breed\n",
    "    def bark(self):\n",
    "        return \"Woof!\"\n",
    "dog1=Dog(\"tommy\",\"bulldog\")\n",
    "dog1.bark()"
   ]
  },
  {
   "cell_type": "markdown",
   "id": "d1e9e64f",
   "metadata": {},
   "source": [
    "#Code 2     "
   ]
  },
  {
   "cell_type": "code",
   "execution_count": 4,
   "id": "f25d631a",
   "metadata": {},
   "outputs": [
    {
     "data": {
      "text/plain": [
       "\"Hello, Rohan I'm Sohan!\""
      ]
     },
     "execution_count": 4,
     "metadata": {},
     "output_type": "execute_result"
    }
   ],
   "source": [
    "class User:\n",
    "    def __init__(self,username,email):\n",
    "        self.username=username\n",
    "        self.email=email\n",
    "    def greet(self,User):\n",
    "        return f\"Hello, {User.username} I'm {self.username}!\"\n",
    "user1 = User(\"Rohan\",\"ron@gmail.compile\")\n",
    "user2 = User(\"Sohan\",\"son@gmail.com\")\n",
    "user2.greet(user1)"
   ]
  },
  {
   "cell_type": "markdown",
   "id": "422f3aa0",
   "metadata": {},
   "source": [
    "#Code 3\n",
    "##Accessing and Modifying Data:\n",
    "- The traditional way: make the data private and use getters and setters:      \n",
    "- In order to make the the attribute private you can you '_' or '__'\n",
    "- '_' will male the attribute write protected but can be accessible outside class\n",
    "- '__' will make the attribute read and write protected and cannot be accesible outside class. "
   ]
  },
  {
   "cell_type": "code",
   "execution_count": null,
   "id": "990e3d5c",
   "metadata": {},
   "outputs": [
    {
     "name": "stdout",
     "output_type": "stream",
     "text": [
      "hshsh\n"
     ]
    }
   ],
   "source": [
    "class User:\n",
    "    def __init__(self,username,email,password):\n",
    "        self._username=username   #private attribute\n",
    "        self.__email=email         #private attribute\n",
    "        self._password=password   #private attribute  ):\n",
    "    def get_username(self): #getter method\n",
    "        return self._username  \n",
    "    def clean_email(self):\n",
    "        return self._email.strip().lower() \n",
    "user1=User(\"Rohan\",\"    hSHsh \",\"hshshs\") \n",
    "\n",
    "print(user1.clean_email())"
   ]
  },
  {
   "cell_type": "markdown",
   "id": "2ba39fed",
   "metadata": {},
   "source": [
    "# How to access Private attributes using getter and setter"
   ]
  },
  {
   "cell_type": "code",
   "execution_count": 2,
   "id": "a13e21c6",
   "metadata": {},
   "outputs": [
    {
     "name": "stdout",
     "output_type": "stream",
     "text": [
      "email accessed at 2025-09-20 19:32:25.133260\n",
      "    hSHsh \n",
      "email accessed at 2025-09-20 19:32:25.133506\n",
      "ron@gmail.com\n"
     ]
    }
   ],
   "source": [
    "from datetime import datetime\n",
    "class User:\n",
    "    def __init__(self,username,email,password):\n",
    "        self._username=username   #private attribute\n",
    "        self.__email=email         #private attribute\n",
    "        self._password=password   #private attribute  ):\n",
    "    def get_email(self): #getter method\n",
    "        print(f\"email accessed at {datetime.now()}\")\n",
    "        return self.__email\n",
    "    def set_email(self,new_email): #setter method\n",
    "        if '@' in new_email:\n",
    "            self.__email=new_email\n",
    "user1=User(\"Rohan\",\"    hSHsh \",\"hshshs\") \n",
    "print(user1.get_email())\n",
    "user1.set_email(\"ron@gmail.com\")\n",
    "print(user1.get_email())"
   ]
  },
  {
   "cell_type": "markdown",
   "id": "c77fcf68",
   "metadata": {},
   "source": [
    "# pythonic way for above example     \n",
    "    "
   ]
  },
  {
   "cell_type": "code",
   "execution_count": null,
   "id": "39bd9f15",
   "metadata": {},
   "outputs": [
    {
     "name": "stdout",
     "output_type": "stream",
     "text": [
      "email accessed at 2025-09-20 19:59:49.764064\n",
      "ron@gmail.com\n"
     ]
    }
   ],
   "source": [
    "class user:\n",
    "    def __init__(self,username,email):\n",
    "        self._username=username   #private attribute)\n",
    "        self._email=email         #private attribute\n",
    "\n",
    "    @property\n",
    "    def email(self): #getter method\n",
    "        print(f\"email accessed at {datetime.now()}\")\n",
    "        return self._email\n",
    "    @email.setter   #attribute name .setter \n",
    "    def email(self,new_email): #setter method\n",
    "        if '@' in new_email:\n",
    "            self._email=new_email\n",
    "user1=user(\"Rohan\",\"ron@gmail.com\") \n",
    "print(user1.email_temp)"
   ]
  },
  {
   "cell_type": "markdown",
   "id": "7ed3ebcc",
   "metadata": {},
   "source": [
    "# static attributes\n",
    "- A static attribute(sometimes called a  class attribute) is an attribute that belongs to the class itself, not to any specific instnace of the class."
   ]
  },
  {
   "cell_type": "code",
   "execution_count": 31,
   "id": "4760883d",
   "metadata": {},
   "outputs": [
    {
     "name": "stdout",
     "output_type": "stream",
     "text": [
      "2\n",
      "2\n",
      "Username: rohan,EMail: ron@gmail.com\n",
      "None\n"
     ]
    }
   ],
   "source": [
    "class User:\n",
    "    user_count=0  #static attribute\n",
    "    def __init__(self,username,email):  \n",
    "        self.username=username\n",
    "        self.email =email\n",
    "        User.user_count +=1\n",
    "\n",
    "    def display_user(self):\n",
    "        print(f\"Username: {self.username},EMail: {self.email}\")\n",
    "              \n",
    "user1=User(\"rohan\",\"ron@gmail.com\")\n",
    "user2=User(\"sohan\",\"son@gmail.com\")  \n",
    "\n",
    "print(User.user_count)\n",
    "print(user1.user_count)\n",
    "print(user1.display_user())"
   ]
  },
  {
   "cell_type": "markdown",
   "id": "89af46f8",
   "metadata": {},
   "source": [
    "# Static vs Instance Method Example\n",
    "- A static method in python is a method that belongs to the class itself rather than any instance of the class.\n",
    "- To define static method we use the '@staticmethod' decorator"
   ]
  },
  {
   "cell_type": "code",
   "execution_count": 40,
   "id": "9c24fbf5",
   "metadata": {},
   "outputs": [
    {
     "name": "stdout",
     "output_type": "stream",
     "text": [
      "Logging deposit of $200. New balance $700\n",
      "True\n",
      "False\n"
     ]
    }
   ],
   "source": [
    "class BankAccount:\n",
    "    MIN_BALANCE =100  # convention in python to capitalized contants\n",
    "\n",
    "    def __init__(self,owner,balance=0):\n",
    "        self.owner=owner\n",
    "        self._balance=balance\n",
    "\n",
    "    def deposit(self,amount):  #instance method as it use balance from __init__ method\n",
    "        if  self._is_valid_amount(amount):\n",
    "            self._balance += amount\n",
    "            self.__log_transaction('deposit',amount)\n",
    "            #print(f\"{self.owner} new balance: ${self._balance}\")\n",
    "        else :\n",
    "            print(\"Deposit amount should be greater than 0\")\n",
    "    def _is_valid_amount(self,amount):\n",
    "        return amount > 0\n",
    "    \n",
    "    def __log_transaction(self, transaction_type,amount):  #private method is __\n",
    "        print(f\"Logging {transaction_type} of ${amount}. New balance ${self._balance}\")\n",
    "\n",
    "\n",
    "    @staticmethod\n",
    "    def is_valid_interest_rate(rate):\n",
    "        return 0 <=rate <=5\n",
    "\n",
    "account=BankAccount(\"rohan\",500)\n",
    "account.deposit(200)\n",
    "print(BankAccount.is_valid_interest_rate(3))\n",
    "print(BankAccount.is_valid_interest_rate(10))"
   ]
  },
  {
   "cell_type": "markdown",
   "id": "fd732855",
   "metadata": {},
   "source": [
    "# OOPS Principle\n",
    "## #Encapsulation- envlove bundelling the data,and hidding the data from the world      "
   ]
  },
  {
   "cell_type": "code",
   "execution_count": null,
   "id": "c96b4af2",
   "metadata": {},
   "outputs": [
    {
     "name": "stdout",
     "output_type": "stream",
     "text": [
      "-1\n",
      "0.0\n"
     ]
    }
   ],
   "source": [
    "class BadBankAccount:\n",
    "    def __init__ (self, balance):\n",
    "        self.balance = balance\n",
    "\n",
    "account = BadBankAccount(0.0)\n",
    "account.balance = -1\n",
    "print(account.balance)\n",
    "\n"
   ]
  },
  {
   "cell_type": "code",
   "execution_count": null,
   "id": "366c0ba8",
   "metadata": {},
   "outputs": [
    {
     "name": "stdout",
     "output_type": "stream",
     "text": [
      "0.0\n",
      "1.99\n"
     ]
    }
   ],
   "source": [
    "# Refactored BankAccount class with encapsulation with getter and and setter is not set so balance can only be changed by deposit and withdraw methods\n",
    "class BankAccount:\n",
    "    def __init__(self):\n",
    "        self._balance = 0.0\n",
    "    @property\n",
    "    def balance(self):\n",
    "        return self._balance\n",
    "    \n",
    "    def deposit(self,amount):\n",
    "        if amount <=0:\n",
    "            raise ValueError(\"amount should be positive\")\n",
    "        self._balance+= amount\n",
    "\n",
    "    def withdrawn(self,amount):\n",
    "        if amount <=0:\n",
    "            raise ValueError (\"amount must be positive\")\n",
    "        if amount > self._balance:\n",
    "            raise ValueError (\"insufficient funds\")\n",
    "        self._balance -= amount\n",
    "\n",
    "account = BankAccount()\n",
    "print(account.balance)\n",
    "account.deposit(1.99)\n",
    "print(account.balance)\n"
   ]
  },
  {
   "cell_type": "markdown",
   "id": "ddbca2ac",
   "metadata": {},
   "source": [
    "# Abtraction\n",
    "- Reduce complexity by hiding unnecessary details\n"
   ]
  },
  {
   "cell_type": "code",
   "execution_count": null,
   "id": "a34f6fb4",
   "metadata": {},
   "outputs": [
    {
     "name": "stdout",
     "output_type": "stream",
     "text": [
      "Connecting to email server...\n",
      "Authenticating...\n",
      "Sending email...\n",
      "Disconnecting...\n"
     ]
    }
   ],
   "source": [
    "class EmailService:\n",
    "    def _connect(self):\n",
    "        print(\"Connecting to email server...\")\n",
    "    def _autheticate(self):\n",
    "        print(\"Authenticating...\")\n",
    "    def _disconnect(self):\n",
    "        print(\"Disconnecting...\")\n",
    "    def send_email(self):\n",
    "        self._connect()\n",
    "        self._autheticate()\n",
    "        print(\"Sending email...\")\n",
    "        self._disconnect()\n",
    "email_service = EmailService()\n",
    "email_service.send_email()"
   ]
  },
  {
   "cell_type": "markdown",
   "id": "743fa1ad",
   "metadata": {},
   "source": [
    "# Inheritance\n"
   ]
  },
  {
   "cell_type": "code",
   "execution_count": 7,
   "id": "167fad75",
   "metadata": {},
   "outputs": [
    {
     "name": "stdout",
     "output_type": "stream",
     "text": [
      "{'brand': 'Toyota', 'model': 'Camry', 'year': 2020, 'num_doors': 5, 'num_wheels': 4}\n",
      "{'brand': 'Yamaha', 'model': 'YZF-R3', 'year': 2021, 'number_of_wheels': 2}\n",
      "Toyota Camry is starting.\n",
      "Yamaha YZF-R3 is starting.\n"
     ]
    }
   ],
   "source": [
    "class Vehicle:\n",
    "    def __init__(self, brand, model, year):\n",
    "        self.brand = brand\n",
    "        self.model = model\n",
    "        self.year = year\n",
    "    def start(self):\n",
    "        return f\"{self.brand} {self.model} is starting.\"\n",
    "    def stop(self):\n",
    "        return f\"{self.brand} {self.model} is stopping.\"\n",
    "\n",
    "class Car(Vehicle):\n",
    "    def __init__(self, brand, model, year, num_doors, num_wheels):\n",
    "        super().__init__(brand, model, year)\n",
    "        self.num_doors = num_doors\n",
    "        self.num_wheels = num_wheels\n",
    "    def honk(self):\n",
    "        return \"Beep beep!\"\n",
    "class Bike(Vehicle):\n",
    "    def __init__(self, brand,model, year, number_of_wheels):\n",
    "        super().__init__(brand, model, year)\n",
    "        self.number_of_wheels = number_of_wheels\n",
    "\n",
    "car = Car(\"Toyota\", \"Camry\", 2020, 5, 4)\n",
    "bike = Bike(\"Yamaha\", \"YZF-R3\", 2021, 2)\n",
    "print(car.__dict__)\n",
    "print(bike.__dict__)\n",
    "print(car.start())\n",
    "print(bike.start())"
   ]
  },
  {
   "cell_type": "markdown",
   "id": "cb389a7d",
   "metadata": {},
   "source": [
    "# Polymorphism\n",
    "- the word polymorphism is derived from greek and means \"having multiple forms\":"
   ]
  },
  {
   "cell_type": "code",
   "execution_count": null,
   "id": "6e0aeece",
   "metadata": {},
   "outputs": [
    {
     "name": "stdout",
     "output_type": "stream",
     "text": [
      "Inspecting Car: Toyota Camry (Car)\n",
      "Toyota Camry is stopping.\n",
      "Inspecting Car: Yamaha YZF-R3 (Bike)\n",
      "Yamaha YZF-R3 is stopping.\n"
     ]
    }
   ],
   "source": [
    "#without polymorphism\n",
    "\n",
    "class Car():\n",
    "    def __init__(self, brand, model, year, num_doors, num_wheels):\n",
    "        self.brand = brand\n",
    "        self.model = model\n",
    "        self.year = year\n",
    "        self.num_doors = num_doors\n",
    "        self.num_wheels = num_wheels\n",
    "    def start_car(self):\n",
    "        return f\"{self.brand} {self.model} is starting.\"\n",
    "    def stop_car(self):\n",
    "        return f\"{self.brand} {self.model} is stopping.\"\n",
    "    \n",
    "class Bike():\n",
    "    def __init__(self, brand,model, year, number_of_wheels):\n",
    "        self.number_of_wheels = number_of_wheels\n",
    "        self.brand = brand\n",
    "        self.model = model\n",
    "        self.year = year\n",
    "    def start_bike(self):\n",
    "        return f\"{self.brand} {self.model} is starting.\"\n",
    "    def stop_bike(self):\n",
    "        return f\"{self.brand} {self.model} is stopping.\"\n",
    "#create list of vehicles to inspect    \n",
    "Vehicles =[\n",
    "    Car(\"Toyota\", \"Camry\", 2020, 5, 4),\n",
    "    Bike(\"Yamaha\", \"YZF-R3\", 2021, 2)\n",
    "]\n",
    "\n",
    "\n",
    "#loop to inspect each vehicle\n",
    "for Vehicle in Vehicles:\n",
    "    if isinstance(Vehicle, Car):\n",
    "        print(f\"Inspecting Car: {Vehicle.brand} {Vehicle.model} ({type(Vehicle).__name__})\")\n",
    "        print(Vehicle.stop_car())\n",
    "    elif isinstance(Vehicle, Bike):\n",
    "        print(f\"Inspecting Car: {Vehicle.brand} {Vehicle.model} ({type(Vehicle).__name__})\")\n",
    "        print(Vehicle.stop_bike())\n",
    "    else :\n",
    "        raise Exception(\"Unknown vehicle type\")"
   ]
  },
  {
   "cell_type": "code",
   "execution_count": 18,
   "id": "01fb3667",
   "metadata": {},
   "outputs": [
    {
     "name": "stdout",
     "output_type": "stream",
     "text": [
      "Inspecting Car: Toyota Camry (Car)\n",
      "Toyota Camry is stopping.\n",
      "Inspecting bike: Yamaha YZF-R3 (Bike)\n",
      "Yamaha YZF-R3 is stopping.\n"
     ]
    }
   ],
   "source": [
    "# with polymorphism\n",
    "\n",
    "class Vehicle:\n",
    "    def __init__(self, brand, model, year):\n",
    "        self.brand = brand\n",
    "        self.model = model\n",
    "        self.year = year\n",
    "    def start(self):\n",
    "        return f\"vehicle is starting.\"\n",
    "    def stop(self):\n",
    "        return f\"vehicle is stopping.\"\n",
    "\n",
    "\n",
    "\n",
    "class Car(Vehicle):\n",
    "    def __init__(self, brand, model, year, num_doors, num_wheels):\n",
    "        # self.brand = brand\n",
    "        # self.model = model\n",
    "        # self.year = year\n",
    "        super().__init__(brand, model, year)\n",
    "        self.num_doors = num_doors\n",
    "        self.num_wheels = num_wheels\n",
    "    def start_car(self):\n",
    "        return f\"{self.brand} {self.model} is starting.\"\n",
    "    def stop_car(self):\n",
    "        return f\"{self.brand} {self.model} is stopping.\"\n",
    "    \n",
    "class Bike(Vehicle):\n",
    "    def __init__(self, brand,model, year, number_of_wheels):\n",
    "        super().__init__(brand, model, year)\n",
    "        self.number_of_wheels = number_of_wheels\n",
    "        # self.brand = brand\n",
    "        # self.model = model\n",
    "        # self.year = year\n",
    "    def start_bike(self):\n",
    "        return f\"{self.brand} {self.model} is starting.\"\n",
    "    def stop_bike(self):\n",
    "        return f\"{self.brand} {self.model} is stopping.\"\n",
    "#create list of vehicles to inspect    \n",
    "Vehicles =[\n",
    "    Car(\"Toyota\", \"Camry\", 2020, 5, 4),\n",
    "    Bike(\"Yamaha\", \"YZF-R3\", 2021, 2)\n",
    "]\n",
    "\n",
    "\n",
    "#loop to inspect each vehicle\n",
    "for Vehicle in Vehicles:\n",
    "    if isinstance(Vehicle, Car):\n",
    "        print(f\"Inspecting Car: {Vehicle.brand} {Vehicle.model} ({type(Vehicle).__name__})\")\n",
    "        print(Vehicle.stop_car())\n",
    "    elif isinstance(Vehicle, Bike):\n",
    "        print(f\"Inspecting bike: {Vehicle.brand} {Vehicle.model} ({type(Vehicle).__name__})\")\n",
    "        print(Vehicle.stop_bike())\n",
    "    else :\n",
    "        raise Exception(\"Unknown vehicle type\")"
   ]
  },
  {
   "cell_type": "markdown",
   "id": "682c617d",
   "metadata": {},
   "source": []
  }
 ],
 "metadata": {
  "kernelspec": {
   "display_name": "Python 3",
   "language": "python",
   "name": "python3"
  },
  "language_info": {
   "codemirror_mode": {
    "name": "ipython",
    "version": 3
   },
   "file_extension": ".py",
   "mimetype": "text/x-python",
   "name": "python",
   "nbconvert_exporter": "python",
   "pygments_lexer": "ipython3",
   "version": "3.12.1"
  }
 },
 "nbformat": 4,
 "nbformat_minor": 5
}
